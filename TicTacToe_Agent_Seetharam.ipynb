{
  "nbformat": 4,
  "nbformat_minor": 0,
  "metadata": {
    "colab": {
      "name": "TicTacToe_Agent_Seetharam.ipynb",
      "provenance": [],
      "collapsed_sections": []
    },
    "kernelspec": {
      "display_name": "Python 3",
      "language": "python",
      "name": "python3"
    },
    "language_info": {
      "codemirror_mode": {
        "name": "ipython",
        "version": 3
      },
      "file_extension": ".py",
      "mimetype": "text/x-python",
      "name": "python",
      "nbconvert_exporter": "python",
      "pygments_lexer": "ipython3",
      "version": "3.7.9"
    }
  },
  "cells": [
    {
      "cell_type": "markdown",
      "metadata": {
        "id": "_Cmk5XdKXZ-3"
      },
      "source": [
        "## Tic-Tac-Toe Agent\n",
        "\n",
        "The environment is playing randomly with the agent, i.e. its strategy is to put an even number randomly in an empty cell. The following is the layout of the notebook:\n",
        "        - Defining epsilon-greedy strategy\n",
        "        - Tracking state-action pairs for convergence\n",
        "        - Define hyperparameters for the Q-learning algorithm\n",
        "        - Generating episode and applying Q-update equation\n",
        "        - Checking convergence in Q-values\n",
        "        \n",
        "MDP for Numerical Tic-Tac-Toe game.\n",
        "* +10 if the agent wins (makes 15 points first)\n",
        "* -10 if the environment wins\n",
        "* 0 if the game ends in a draw (no one is able to make 15 and the board is filled up)\n",
        "* -1 for each move agent takes\n",
        "\n",
        "step function which takes in an input of the agent’s action and state; and outputs the next state and reward.\n",
        "\n",
        "Q-values convergence- check whether Q-values learnt by the agent have converged or not. Sample 4 state-action pairs and plot it with the number of episodes to understand the convergence."
      ]
    },
    {
      "cell_type": "markdown",
      "metadata": {
        "id": "9R5fX8qyjcRl"
      },
      "source": [
        "#### Importing libraries\n",
        "importing Tic-Tac-Toe class from the environment file"
      ]
    },
    {
      "cell_type": "code",
      "metadata": {
        "id": "FY341qg3mwKB"
      },
      "source": [
        "# importing  TicTacToe class from environment file\n",
        "import collections\n",
        "import numpy as np\n",
        "import random\n",
        "import pickle\n",
        "import time\n",
        "from matplotlib import pyplot as plt\n",
        "\n",
        "from itertools import groupby\n",
        "from itertools import product"
      ],
      "execution_count": 1,
      "outputs": []
    },
    {
      "cell_type": "code",
      "metadata": {
        "id": "Ji6_ngJtU-uO"
      },
      "source": [
        "class TicTacToe():\n",
        "\n",
        "    def __init__(self):\n",
        "        \"\"\"initialise the board\"\"\"\n",
        "        \n",
        "        # initialise state as an array\n",
        "        self.state = [np.nan for _ in range(9)]  # initialises the board position, can initialise to an array or matrix\n",
        "        # all possible numbers\n",
        "        self.all_possible_numbers = [i for i in range(1, len(self.state) + 1)] # , can initialise to an array or matrix\n",
        "        # set all members to their initial value\n",
        "        self.reset()\n",
        "\n",
        "    def is_winning(self, curr_state):\n",
        "        \"\"\"Takes state as an input and returns whether any row, column or diagonal has winning sum\n",
        "        Example: Input state- [1, 2, 3, 4, nan, nan, nan, nan, nan]\n",
        "        Output = False\"\"\"\n",
        "        winning_index = [(0,1,2),(3,4,5),(6,7,8),(0,3,6),(1,4,7),(2,5,8),(0,4,8),(2,4,6)]\n",
        "\n",
        "        for idx in winning_index:\n",
        "            # check row/column is filled up\n",
        "            if np.isnan([curr_state[idx[0]],curr_state[idx[1]],curr_state[idx[2]]]).sum() == 0:\n",
        "                # check total sum equal to 15\n",
        "                if np.sum([curr_state[idx[0]],curr_state[idx[1]],curr_state[idx[2]]]) == 15:\n",
        "                    return True\n",
        "        \n",
        "        return False\n",
        " \n",
        "    def is_terminal(self, curr_state):\n",
        "        # Terminal state could be winning state or when the board is filled up\n",
        "        if self.is_winning(curr_state) == True:\n",
        "            return True, 'Win'\n",
        "        elif len(self.allowed_positions(curr_state)) ==0:\n",
        "            return True, 'Tie'\n",
        "        else:\n",
        "            return False, 'Resume'\n",
        "\n",
        "    def allowed_positions(self, curr_state):\n",
        "        \"\"\"Takes state as an input and returns all indexes that are blank\"\"\"\n",
        "        return [i for i, val in enumerate(curr_state) if np.isnan(val)]\n",
        "\n",
        "    def allowed_values(self, curr_state):\n",
        "        \"\"\"Takes the current state as input and returns all possible (unused) values that can be placed on the board\"\"\"\n",
        "\n",
        "        used_values = [val for val in curr_state if not np.isnan(val)]\n",
        "        agent_values = [val for val in self.all_possible_numbers if val not in used_values and val % 2 !=0]\n",
        "        env_values = [val for val in self.all_possible_numbers if val not in used_values and val % 2 ==0]\n",
        "\n",
        "        return (agent_values, env_values)\n",
        "\n",
        "    def action_space(self, curr_state):\n",
        "        \"\"\"Takes the current state as input and returns all possible actions, i.e, all combinations of allowed positions and allowed values\"\"\"\n",
        "\n",
        "        agent_actions = product(self.allowed_positions(curr_state), self.allowed_values(curr_state)[0])\n",
        "        env_actions = product(self.allowed_positions(curr_state), self.allowed_values(curr_state)[1])\n",
        "        return (agent_actions, env_actions)\n",
        "\n",
        "    def state_transition(self, curr_state, curr_action):\n",
        "        \"\"\"Takes current state and action and returns the board position just after agent's move.\n",
        "        Example: Input state- [1, 2, 3, 4, nan, nan, nan, nan, nan], action- [7, 9] or [position, value]\n",
        "        Output = [1, 2, 3, 4, nan, nan, nan, 9, nan]\n",
        "        \"\"\"\n",
        "        curr_state[curr_action[0]] = curr_action[1]\n",
        "        return curr_state\n",
        "\n",
        "\n",
        "    def step(self, curr_state, curr_action):\n",
        "        \"\"\"Takes current state and action and returns the next state, reward and whether the state is terminal. Hint: First, check the board position after\n",
        "        agent's move, whether the game is won/loss/tied. Then incorporate environment's move and again check the board status.\n",
        "        Example: Input state- [1, 2, 3, 4, nan, nan, nan, nan, nan], action- [7, 9] or [position, value]\n",
        "        Output = ([1, 2, 3, 4, nan, nan, nan, 9, nan], -1, False)\"\"\"\n",
        "        \n",
        "        next_state = self.state_transition(curr_state, curr_action)\n",
        "        terminal, result = self.is_terminal(next_state)\n",
        "        \n",
        "        if terminal == True:\n",
        "            if (result == 'Win'):\n",
        "            # Agent has won reward of 10\n",
        "                reward = 10\n",
        "                result = \"Agent_won\"\n",
        "            elif (result == 'Tie'):\n",
        "            # Game turned to Tie reward of 0\n",
        "                reward = 0\n",
        "                \n",
        "            return next_state,reward,terminal,result\n",
        "        \n",
        "        else:\n",
        "            # result is 'Resume' perform Environment move\n",
        "            _, envn_actions = self.action_space(next_state)\n",
        "            # pick a random action in available move\n",
        "            envn_act = random.choice(list(envn_actions))\n",
        "            next_state = self.state_transition(next_state, envn_act)\n",
        "            \n",
        "            # Check for the results\n",
        "            terminal, result = self.is_terminal(next_state)\n",
        "            \n",
        "            if terminal == True:\n",
        "                #Game has completed\n",
        "                if (result == 'Win'):\n",
        "                    # Envinorment has won reward of -10\n",
        "                    reward = -10\n",
        "                    result = \"Envn_won\"\n",
        "                elif (result == 'Tie'):\n",
        "                # Game turned to Tie reward of 0\n",
        "                    reward = 0\n",
        "            else :\n",
        "                # Game needs to resume\n",
        "                # reward of -1 to staying in \n",
        "                reward = -1\n",
        "            \n",
        "            return next_state,reward,terminal,result\n",
        "\n",
        "    def reset(self):\n",
        "        return self.state"
      ],
      "execution_count": 2,
      "outputs": []
    },
    {
      "cell_type": "code",
      "metadata": {
        "id": "XFZZRnPUnejA"
      },
      "source": [
        "# Function to convert state array into a string to store it as keys in the dictionary\n",
        "# states in Q-dictionary will be of form: x-4-5-3-8-x-x-x-x\n",
        "#   x | 4 | 5\n",
        "#   ----------\n",
        "#   3 | 8 | x\n",
        "#   ----------\n",
        "#   x | x | x\n",
        "\n",
        "def Q_state(state):\n",
        "\n",
        "    return ('-'.join(str(e) for e in state)).replace('nan','x')"
      ],
      "execution_count": 3,
      "outputs": []
    },
    {
      "cell_type": "code",
      "metadata": {
        "colab": {
          "base_uri": "https://localhost:8080/"
        },
        "id": "lOMWKECfngGi",
        "outputId": "543772dc-fc02-4710-dcd5-ef6ca2863916"
      },
      "source": [
        "print(\"Making sure envinorment and Q_state are initialing \\n\")\n",
        "# initializing Tictactoe object from the environment file\n",
        "envn = TicTacToe()\n",
        "print(envn.state)\n",
        "print(Q_state(envn.state))"
      ],
      "execution_count": 4,
      "outputs": [
        {
          "output_type": "stream",
          "text": [
            "Making sure envinorment and Q_state are initialing \n",
            "\n",
            "[nan, nan, nan, nan, nan, nan, nan, nan, nan]\n",
            "x-x-x-x-x-x-x-x-x\n"
          ],
          "name": "stdout"
        }
      ]
    },
    {
      "cell_type": "code",
      "metadata": {
        "id": "Sya5MFUcniWw"
      },
      "source": [
        "# Defining a function which will return valid (all possible actions) actions corresponding to a state\n",
        "# Important to avoid errors during deployment.\n",
        "\n",
        "def valid_actions(state):\n",
        "\n",
        "    valid_Actions = []\n",
        "    # calling action_space to get all possible actions\n",
        "    valid_Actions = [i for i in envn.action_space(state)[0]]\n",
        "    return valid_Actions"
      ],
      "execution_count": 5,
      "outputs": []
    },
    {
      "cell_type": "code",
      "metadata": {
        "colab": {
          "base_uri": "https://localhost:8080/"
        },
        "id": "nDAiQpc8nkNs",
        "outputId": "850247f6-93a8-43cf-e525-4cdeb2fa8e23"
      },
      "source": [
        "print(\"Valid action for State:- \",Q_state(envn.state),\"\\n\")\n",
        "print(valid_actions(envn.state))"
      ],
      "execution_count": 6,
      "outputs": [
        {
          "output_type": "stream",
          "text": [
            "Valid action for State:-  x-x-x-x-x-x-x-x-x \n",
            "\n",
            "[(0, 1), (0, 3), (0, 5), (0, 7), (0, 9), (1, 1), (1, 3), (1, 5), (1, 7), (1, 9), (2, 1), (2, 3), (2, 5), (2, 7), (2, 9), (3, 1), (3, 3), (3, 5), (3, 7), (3, 9), (4, 1), (4, 3), (4, 5), (4, 7), (4, 9), (5, 1), (5, 3), (5, 5), (5, 7), (5, 9), (6, 1), (6, 3), (6, 5), (6, 7), (6, 9), (7, 1), (7, 3), (7, 5), (7, 7), (7, 9), (8, 1), (8, 3), (8, 5), (8, 7), (8, 9)]\n"
          ],
          "name": "stdout"
        }
      ]
    },
    {
      "cell_type": "code",
      "metadata": {
        "id": "lHOyXkaBnlsq"
      },
      "source": [
        "# Defining a function which will add new Q-values to the Q-dictionary. \n",
        "def add_to_dict(state):\n",
        "    state1 = Q_state(state)\n",
        "    \n",
        "    valid_act = valid_actions(state)\n",
        "    if state1 not in Q_dict.keys():\n",
        "        for action in valid_act:\n",
        "            Q_dict[state1][action]=0"
      ],
      "execution_count": 7,
      "outputs": []
    },
    {
      "cell_type": "markdown",
      "metadata": {
        "id": "KyTezw2cj050"
      },
      "source": [
        "### Epsilon-greedy strategy Funchion"
      ]
    },
    {
      "cell_type": "code",
      "metadata": {
        "id": "UdDuNTvEnnnX"
      },
      "source": [
        "# Defining epsilon-greedy policy. You can choose any function epsilon-decay strategy\n",
        "def epsilon_greedy(state, time):\n",
        "    epsilon = min_epsilon + (max_epsilon - min_epsilon) * np.exp(-decay_rate*time)\n",
        "    # Generate random float number between 0 to 1 \n",
        "    z = np.random.random()\n",
        "    if z > epsilon:\n",
        "        # ===> Pick the action having maximum reward\n",
        "        act_state = Q_state(state)\n",
        "        action = max(Q_dict[act_state],key=Q_dict[act_state].get)\n",
        "    else:\n",
        "        # ===> random action generation\n",
        "        action = random.sample(valid_actions(state),1)[0]\n",
        "    return action\n"
      ],
      "execution_count": 8,
      "outputs": []
    },
    {
      "cell_type": "markdown",
      "metadata": {
        "id": "q8C2t0fGkCcY"
      },
      "source": [
        "### For Tracking the state-action pairs for checking the Convergence "
      ]
    },
    {
      "cell_type": "code",
      "metadata": {
        "id": "1NYi1fQynqwW"
      },
      "source": [
        "# Initialise Q_dictionary as 'Q_dict' and States_tracked as 'States_track' (for convergence)\n",
        "Q_dict = collections.defaultdict(dict)\n",
        "States_track =collections.defaultdict(dict)"
      ],
      "execution_count": 67,
      "outputs": []
    },
    {
      "cell_type": "code",
      "metadata": {
        "id": "dDqPa5Slnsm7"
      },
      "source": [
        "# Initialise states to be tracked\n",
        "def initialise_tracking_states():\n",
        "    Sample_Qvalues = [('x-3-x-x-x-6-x-x-x',(0,1)),\n",
        "                       ('x-1-x-x-x-x-8-x-x',(2,9)),\n",
        "                       ('x-x-x-x-6-x-x-x-5',(2,7)),\n",
        "                       ('x-x-x-x-9-x-6-x-x',(1,7)),\n",
        "                       ('x-5-x-2-x-x-4-7-x',(0,9)),\n",
        "                       ('9-x-5-x-x-x-8-x-4',(1,3)),\n",
        "                       ('2-7-x-x-6-x-x-3-x',(8,5)),\n",
        "                       ('9-x-x-x-x-2-x-x-x',(2,5)),\n",
        "                       ('x-x-7-x-x-x-x-x-2',(1,5)),\n",
        "                       ('5-x-x-x-x-6-x-x-x',(4,9)),\n",
        "                       ('4-x-x-6-x-x-3-1-x',(8,5)),\n",
        "                       ('5-x-8-x-x-6-3-x-x',(3,1)),\n",
        "                       ('x-6-5-x-2-x-x-3-x',(0,7)),\n",
        "                       ('7-x-5-x-2-x-x-x-6',(1,3))]    #selecting some 4 Q-values\n",
        "    for q_values in Sample_Qvalues:\n",
        "        state = q_values[0]\n",
        "        action = q_values[1]\n",
        "        States_track[state][action] = []\n",
        "\n",
        "initialise_tracking_states()"
      ],
      "execution_count": 68,
      "outputs": []
    },
    {
      "cell_type": "code",
      "metadata": {
        "colab": {
          "base_uri": "https://localhost:8080/"
        },
        "id": "GR7U_BJakVbw",
        "outputId": "3d36991a-5988-44a6-b8ca-355419cc7b88"
      },
      "source": [
        "print(\"State_track default state:- \\n\")\n",
        "States_track"
      ],
      "execution_count": 69,
      "outputs": [
        {
          "output_type": "stream",
          "text": [
            "State_track default state:- \n",
            "\n"
          ],
          "name": "stdout"
        },
        {
          "output_type": "execute_result",
          "data": {
            "text/plain": [
              "defaultdict(dict,\n",
              "            {'2-7-x-x-6-x-x-3-x': {(8, 5): []},\n",
              "             '4-x-x-6-x-x-3-1-x': {(8, 5): []},\n",
              "             '5-x-8-x-x-6-3-x-x': {(3, 1): []},\n",
              "             '5-x-x-x-x-6-x-x-x': {(4, 9): []},\n",
              "             '7-x-5-x-2-x-x-x-6': {(1, 3): []},\n",
              "             '9-x-5-x-x-x-8-x-4': {(1, 3): []},\n",
              "             '9-x-x-x-x-2-x-x-x': {(2, 5): []},\n",
              "             'x-1-x-x-x-x-8-x-x': {(2, 9): []},\n",
              "             'x-3-x-x-x-6-x-x-x': {(0, 1): []},\n",
              "             'x-5-x-2-x-x-4-7-x': {(0, 9): []},\n",
              "             'x-6-5-x-2-x-x-3-x': {(0, 7): []},\n",
              "             'x-x-7-x-x-x-x-x-2': {(1, 5): []},\n",
              "             'x-x-x-x-6-x-x-x-5': {(2, 7): []},\n",
              "             'x-x-x-x-9-x-6-x-x': {(1, 7): []}})"
            ]
          },
          "metadata": {
            "tags": []
          },
          "execution_count": 69
        }
      ]
    },
    {
      "cell_type": "code",
      "metadata": {
        "id": "JpVapjwFnur4"
      },
      "source": [
        "#Defining a function to save the Q-dictionary as a pickle file\n",
        "\n",
        "def save_obj(obj, name ):\n",
        "    with open(name + '.pkl', 'wb') as f:\n",
        "        pickle.dump(obj, f, pickle.HIGHEST_PROTOCOL)"
      ],
      "execution_count": 70,
      "outputs": []
    },
    {
      "cell_type": "code",
      "metadata": {
        "id": "0Ho6WICSnwbx"
      },
      "source": [
        "def save_tracking_states():\n",
        "    for state in States_track.keys():\n",
        "        for action in States_track[state].keys():\n",
        "            if state in Q_dict and action in Q_dict[state]:\n",
        "                States_track[state][action].append(Q_dict[state][action])"
      ],
      "execution_count": 71,
      "outputs": []
    },
    {
      "cell_type": "markdown",
      "metadata": {
        "id": "6yaqz4HLkZN2"
      },
      "source": [
        "### Model Hyperparameters"
      ]
    },
    {
      "cell_type": "code",
      "metadata": {
        "id": "S_s5_tX5nyOV"
      },
      "source": [
        "#Defining parameters for the training\n",
        "\n",
        "EPISODES = 5000000         # Number of training episodes\n",
        "\n",
        "LR = 0.2                   # learning rate\n",
        "GAMMA = 0.8                # discount factor\n",
        "\n",
        "max_epsilon = 1.0\n",
        "min_epsilon = 0.001\n",
        "decay_rate = 0.000001       # epsilon decay rate\n",
        "threshold = 2000            # no of episodes after which states_tracked wwill be saved\n",
        "\n",
        "chkpt_print = int(EPISODES/10) # Print debug log while training"
      ],
      "execution_count": 76,
      "outputs": []
    },
    {
      "cell_type": "code",
      "metadata": {
        "colab": {
          "base_uri": "https://localhost:8080/",
          "height": 294
        },
        "id": "8SzcXWZyn6GC",
        "outputId": "649216a5-68db-4e81-a749-f6c4c7180a43"
      },
      "source": [
        "episd = np.arange(0,EPISODES)\n",
        "epsilon = []\n",
        "for i in range(0,EPISODES):\n",
        "    epsilon.append(min_epsilon + (max_epsilon - min_epsilon) * np.exp(-decay_rate*i))\n",
        "\n",
        "plt.plot(episd, epsilon)\n",
        "plt.title(\"Epsilon - decay graph\")\n",
        "plt.show()"
      ],
      "execution_count": 77,
      "outputs": [
        {
          "output_type": "display_data",
          "data": {
            "image/png": "[encoded data removed]",
            "text/plain": [
              "<Figure size 432x288 with 1 Axes>"
            ]
          },
          "metadata": {
            "tags": [],
            "needs_background": "light"
          }
        }
      ]
    },
    {
      "cell_type": "markdown",
      "metadata": {
        "id": "7I5ab_2Jkf6-"
      },
      "source": [
        "### Q-update loop"
      ]
    },
    {
      "cell_type": "code",
      "metadata": {
        "colab": {
          "base_uri": "https://localhost:8080/"
        },
        "id": "X0-yYEyeZywt",
        "outputId": "1a0006d7-4b6e-4d2d-e801-54dbfe6eba89"
      },
      "source": [
        "start_time = time.time()\n",
        "episode_time= time.time()\n",
        "agent_won = 0\n",
        "envn_won = 0\n",
        "tie_cnt = 0\n",
        "total_reward = 0\n",
        "    \n",
        "for episode in range(EPISODES):\n",
        "    # initializing the object for new episode\n",
        "    \n",
        "    env = TicTacToe()\n",
        "    curr_state = env.state\n",
        "    isTerminated = False\n",
        "    add_to_dict(curr_state)\n",
        "    \n",
        "    while not isTerminated:\n",
        "        current_lookup = Q_state(curr_state)\n",
        "        curr_action = epsilon_greedy(curr_state, episode)\n",
        "        next_state, reward, isTerminated,result = env.step(curr_state, curr_action)\n",
        "\n",
        "        if isTerminated:\n",
        "            # Game terminated\n",
        "            if result == \"Agent_won\":\n",
        "                agent_won += 1\n",
        "            elif result == \"Envn_won\":\n",
        "                envn_won += 1\n",
        "            else :\n",
        "                tie_cnt += 1\n",
        "            # update Q table with new reward\n",
        "            Q_dict[current_lookup][curr_action] += LR*((reward - Q_dict[current_lookup][curr_action]))\n",
        "        else:\n",
        "            # Game has to be resume\n",
        "            next_lookup = Q_state(next_state)\n",
        "            add_to_dict(next_state)\n",
        "            # select the action having max reward\n",
        "            max_next = max(Q_dict[next_lookup],key=Q_dict[next_lookup].get)\n",
        "            # update Q table \n",
        "            Q_dict[current_lookup][curr_action] += \\\n",
        "              LR *((reward + (GAMMA * (Q_dict[next_lookup][max_next]))) -\\\n",
        "              Q_dict[current_lookup][curr_action])\n",
        "        \n",
        "        # update the Current state\n",
        "        curr_state = next_state\n",
        "        total_reward += reward\n",
        "\n",
        "    # for debug logs\n",
        "    if (episode + 1) % chkpt_print == 0:\n",
        "        print(\"After %d Episodes:- Agent Won: %.3f%%, Environment Won: %.3f%%, Tie: %.3f%%, T-Reward: %d, Time: %ds\"% \\\n",
        "          (episode + 1, agent_won / (chkpt_print - 1), envn_won /(chkpt_print - 1), tie_cnt / (chkpt_print - 1),\\\n",
        "           total_reward,time.time()-episode_time))\n",
        "        episode_time = time.time()\n",
        "        total_reward = 0\n",
        "        agent_won = 0\n",
        "        envn_won = 0\n",
        "        tie_cnt = 0\n",
        "    \n",
        "    # Save state-action pairs\n",
        "    if ((episode+1) % threshold) == 0:   #every 2000th episode\n",
        "        save_tracking_states()\n",
        "\n",
        "\n",
        "elapsed_time = time.time() - start_time\n",
        "save_obj(States_track, 'States_tracked')\n",
        "save_obj(Q_dict, 'Policy')\n",
        "print(\"Total time:- \",elapsed_time)\n"
      ],
      "execution_count": 78,
      "outputs": [
        {
          "output_type": "stream",
          "text": [
            "After 500000 Episodes:- Agent Won: 0.278%, Environment Won: 0.272%, Tie: 0.449%, T-Reward: -1633885, Time: 678s\n",
            "After 1000000 Episodes:- Agent Won: 0.470%, Environment Won: 0.202%, Tie: 0.329%, T-Reward: -156159, Time: 573s\n",
            "After 1500000 Episodes:- Agent Won: 0.663%, Environment Won: 0.134%, Tie: 0.203%, T-Reward: 1315434, Time: 485s\n",
            "After 2000000 Episodes:- Agent Won: 0.785%, Environment Won: 0.087%, Tie: 0.128%, T-Reward: 2248283, Time: 447s\n",
            "After 2500000 Episodes:- Agent Won: 0.851%, Environment Won: 0.060%, Tie: 0.089%, T-Reward: 2764360, Time: 419s\n",
            "After 3000000 Episodes:- Agent Won: 0.883%, Environment Won: 0.041%, Tie: 0.076%, T-Reward: 3020914, Time: 409s\n",
            "After 3500000 Episodes:- Agent Won: 0.901%, Environment Won: 0.029%, Tie: 0.070%, T-Reward: 3152254, Time: 407s\n",
            "After 4000000 Episodes:- Agent Won: 0.919%, Environment Won: 0.021%, Tie: 0.060%, T-Reward: 3283061, Time: 407s\n",
            "After 4500000 Episodes:- Agent Won: 0.929%, Environment Won: 0.016%, Tie: 0.055%, T-Reward: 3356335, Time: 408s\n",
            "After 5000000 Episodes:- Agent Won: 0.936%, Environment Won: 0.011%, Tie: 0.053%, T-Reward: 3402285, Time: 408s\n",
            "Total time:-  4645.418097734451\n"
          ],
          "name": "stdout"
        }
      ]
    },
    {
      "cell_type": "markdown",
      "metadata": {
        "id": "ZHakdqXjkkOd"
      },
      "source": [
        "### Q-dictionary"
      ]
    },
    {
      "cell_type": "code",
      "metadata": {
        "id": "5rFBEsxvkl7k"
      },
      "source": [
        "# to load pickle files\n",
        "with open('States_tracked.pkl', 'rb') as f:\n",
        "    States_track = pickle.load(f)\n",
        "\n",
        "with open('Policy.pkl', 'rb') as f:\n",
        "    Q_dict = pickle.load(f)"
      ],
      "execution_count": 79,
      "outputs": []
    },
    {
      "cell_type": "code",
      "metadata": {
        "colab": {
          "base_uri": "https://localhost:8080/"
        },
        "id": "8WTcgBVLkm8o",
        "outputId": "9d88a7d1-2105-4b38-809e-d40ef4cb6c74"
      },
      "source": [
        "print(\"Number of enteries in Q table :- %d\"%len(Q_dict))"
      ],
      "execution_count": 80,
      "outputs": [
        {
          "output_type": "stream",
          "text": [
            "Number of enteries in Q table :- 1296500\n"
          ],
          "name": "stdout"
        }
      ]
    },
    {
      "cell_type": "code",
      "metadata": {
        "colab": {
          "base_uri": "https://localhost:8080/"
        },
        "id": "OUfyz6qfkpA9",
        "outputId": "26ed01f5-c1eb-44d8-bc4e-7b7a39231612"
      },
      "source": [
        "state = 'x-3-x-x-x-6-x-x-x' \n",
        "print(\"Checking Entries for %s state\\n\"%state)\n",
        "Q_dict[state]"
      ],
      "execution_count": 81,
      "outputs": [
        {
          "output_type": "stream",
          "text": [
            "Checking Entries for x-3-x-x-x-6-x-x-x state\n",
            "\n"
          ],
          "name": "stdout"
        },
        {
          "output_type": "execute_result",
          "data": {
            "text/plain": [
              "{(0, 1): -0.8208575583289344,\n",
              " (0, 5): -0.03169561719241412,\n",
              " (0, 7): 6.601600704163662,\n",
              " (0, 9): -0.2909949023289342,\n",
              " (2, 1): -0.9141006540800001,\n",
              " (2, 5): -1.0546062718009341,\n",
              " (2, 7): -0.15048052326399997,\n",
              " (2, 9): -0.9237949106631476,\n",
              " (3, 1): -0.931280523264,\n",
              " (3, 5): -0.3152403221448692,\n",
              " (3, 7): -1.5117050879999998,\n",
              " (3, 9): -0.9450244186112,\n",
              " (4, 1): -0.9116925023289343,\n",
              " (4, 5): -0.931280523264,\n",
              " (4, 7): -0.9141006540800001,\n",
              " (4, 9): -0.865782272,\n",
              " (6, 1): -0.9258244186112,\n",
              " (6, 5): -0.865782272,\n",
              " (6, 7): -0.9450244186112,\n",
              " (6, 9): -0.8582013296640001,\n",
              " (7, 1): -0.777185601490518,\n",
              " (7, 5): -0.8828493015308554,\n",
              " (7, 7): -0.920051956182155,\n",
              " (7, 9): -0.8926258176,\n",
              " (8, 1): -2.395578984071168,\n",
              " (8, 5): -0.9757580811924144,\n",
              " (8, 7): -0.865782272,\n",
              " (8, 9): -0.865782272}"
            ]
          },
          "metadata": {
            "tags": []
          },
          "execution_count": 81
        }
      ]
    },
    {
      "cell_type": "code",
      "metadata": {
        "colab": {
          "base_uri": "https://localhost:8080/"
        },
        "id": "NEulPKjQkro_",
        "outputId": "6644d23f-da0c-4662-cc8b-fbf82fb940e7"
      },
      "source": [
        "next_action = max(Q_dict[state],key=Q_dict[state].get)\n",
        "print(\"Best action for state %s is %s\" % (state,str(next_action)))\n",
        "print(\"Q(s,a) is \",Q_dict[state][next_action])"
      ],
      "execution_count": 82,
      "outputs": [
        {
          "output_type": "stream",
          "text": [
            "Best action for state x-3-x-x-x-6-x-x-x is (0, 7)\n",
            "Q(s,a) is  6.601600704163662\n"
          ],
          "name": "stdout"
        }
      ]
    },
    {
      "cell_type": "markdown",
      "metadata": {
        "id": "Q6zk5ga-kwUQ"
      },
      "source": [
        "### States tracked for Q-values convergence"
      ]
    },
    {
      "cell_type": "code",
      "metadata": {
        "colab": {
          "base_uri": "https://localhost:8080/",
          "height": 461
        },
        "id": "Pft5TrXtoHwV",
        "outputId": "cae8a01f-cc11-43fd-e705-b2e02d871945"
      },
      "source": [
        "plt.figure(0, figsize=(16,7))\n",
        "\n",
        "x_axis = np.asarray(range(0, len(States_track['x-3-x-x-x-6-x-x-x'][(0,1)])))\n",
        "plt.subplot(221)\n",
        "plt.plot(x_axis,np.asarray(States_track['x-3-x-x-x-6-x-x-x'][(0,1)]))\n",
        "plt.title(\"Q(s,a)=('x-3-x-x-x-6-x-x-x',(0,1))\")\n",
        "plt.show\n",
        "\n",
        "x_axis = np.asarray(range(0, len(States_track['x-x-x-x-6-x-x-x-5'][(2,7)])))\n",
        "plt.subplot(222)\n",
        "plt.plot(x_axis,np.asarray(States_track['x-x-x-x-6-x-x-x-5'][(2,7)]))\n",
        "plt.title(\"Q(s,a)=('x-x-x-x-6-x-x-x-5',(2,7))\")\n",
        "plt.show\n",
        "\n",
        "x_axis = np.asarray(range(0, len(States_track['5-x-x-x-x-6-x-x-x'][(4,9)])))\n",
        "plt.subplot(223)\n",
        "plt.plot(x_axis,np.asarray(States_track['5-x-x-x-x-6-x-x-x'][(4,9)]))\n",
        "plt.title(\"Q(s,a)=('5-x-x-x-x-6-x-x-x',(4,9))\")\n",
        "plt.show\n",
        "\n",
        "x_axis = np.asarray(range(0, len(States_track['x-1-x-x-x-x-8-x-x'][(2,9)])))\n",
        "plt.subplot(224)\n",
        "plt.plot(x_axis,np.asarray(States_track['x-1-x-x-x-x-8-x-x'][(2,9)]))\n",
        "plt.title(\"Q(s,a)=('x-1-x-x-x-x-8-x-x',(2,9))\")\n",
        "plt.show"
      ],
      "execution_count": 84,
      "outputs": [
        {
          "output_type": "execute_result",
          "data": {
            "text/plain": [
              "<function matplotlib.pyplot.show>"
            ]
          },
          "metadata": {
            "tags": []
          },
          "execution_count": 84
        },
        {
          "output_type": "display_data",
          "data": {
            "image/png": "[encoded data removed]",
            "text/plain": [
              "<Figure size 1152x504 with 4 Axes>"
            ]
          },
          "metadata": {
            "tags": [],
            "needs_background": "light"
          }
        }
      ]
    },
    {
      "cell_type": "code",
      "metadata": {
        "id": "lfBNQHMBU-uo"
      },
      "source": [
        ""
      ],
      "execution_count": null,
      "outputs": []
    }
  ]
}