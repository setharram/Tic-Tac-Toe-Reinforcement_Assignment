{
 "cells": [
  {
   "cell_type": "markdown",
   "metadata": {
    "id": "wgsjV6bGSDNi"
   },
   "source": [
    "## Tic-Tac-Toe Agent\n",
    "Reinforcement Learning Assignment:- Seetharam Rao\n",
    "\n",
    "The environment is playing randomly with the agent, i.e. its strategy is to put an even number randomly in an empty cell. The following is the layout of the notebook:\n",
    "        - Defining epsilon-greedy strategy\n",
    "        - Tracking state-action pairs for convergence\n",
    "        - Define hyperparameters for the Q-learning algorithm\n",
    "        - Generating episode and applying Q-update equation\n",
    "        - Checking convergence in Q-values\n",
    "        \n",
    "MDP for Numerical Tic-Tac-Toe game.\n",
    "* +10 if the agent wins (makes 15 points first)\n",
    "* -10 if the environment wins\n",
    "* 0 if the game ends in a draw (no one is able to make 15 and the board is filled up)\n",
    "* -1 for each move agent takes\n",
    "\n",
    "step function which takes in an input of the agent’s action and state; and outputs the next state and reward.\n",
    "\n",
    "Q-values convergence- check whether Q-values learnt by the agent have converged or not. Sample 4 state-action pairs and plot it with the number of episodes to understand the convergence."
   ]
  },
  {
   "cell_type": "markdown",
   "metadata": {
    "id": "0MQ9Apd0SJXL"
   },
   "source": [
    "#### Importing libraries\n",
    "importing Tic-Tac-Toe class from the environment file"
   ]
  },
  {
   "cell_type": "code",
   "execution_count": 1,
   "metadata": {
    "id": "UKLtr24hDd3C"
   },
   "outputs": [],
   "source": [
    "# importing  TicTacToe class from environment file\n",
    "from TCGame_Env import TicTacToe\n",
    "import collections\n",
    "import numpy as np\n",
    "import random\n",
    "import pickle\n",
    "import time\n",
    "from matplotlib import pyplot as plt"
   ]
  },
  {
   "cell_type": "code",
   "execution_count": 25,
   "metadata": {
    "id": "FgFNS-tTD7eR"
   },
   "outputs": [],
   "source": [
    "# Function to convert state array into a string to store it as keys in the dictionary\n",
    "# states in Q-dictionary will be of form: x-4-5-3-8-x-x-x-x\n",
    "#   x | 4 | 5\n",
    "#   ----------\n",
    "#   3 | 8 | x\n",
    "#   ----------\n",
    "#   x | x | x\n",
    "\n",
    "def Q_state(state):\n",
    "\n",
    "    return ('-'.join(str(e) for e in state)).replace('nan','x')"
   ]
  },
  {
   "cell_type": "code",
   "execution_count": 3,
   "metadata": {
    "colab": {
     "base_uri": "https://localhost:8080/"
    },
    "id": "5t2B4O27D_Sl",
    "outputId": "4b7d6104-52d4-48c5-8ca1-99975278ce52"
   },
   "outputs": [
    {
     "name": "stdout",
     "output_type": "stream",
     "text": [
      "Making sure envinorment and Q_state are initialing \n",
      "\n",
      "[nan, nan, nan, nan, nan, nan, nan, nan, nan]\n",
      "x-x-x-x-x-x-x-x-x\n"
     ]
    }
   ],
   "source": [
    "print(\"Making sure envinorment and Q_state are initialing \\n\")\n",
    "# initializing Tictactoe object from the environment file\n",
    "envn = TicTacToe()\n",
    "print(envn.state)\n",
    "print(Q_state(envn.state))"
   ]
  },
  {
   "cell_type": "code",
   "execution_count": 4,
   "metadata": {
    "id": "7DaCcTx2EBL8"
   },
   "outputs": [],
   "source": [
    "# Defining a function which will return valid (all possible actions) actions corresponding to a state\n",
    "# Important to avoid errors during deployment.\n",
    "\n",
    "def valid_actions(state):\n",
    "\n",
    "    valid_Actions = []\n",
    "    # calling action_space to get all possible actions\n",
    "    valid_Actions = [i for i in envn.action_space(state)[0]]\n",
    "    return valid_Actions"
   ]
  },
  {
   "cell_type": "code",
   "execution_count": 5,
   "metadata": {
    "colab": {
     "base_uri": "https://localhost:8080/"
    },
    "id": "z_lxRekvEDOe",
    "outputId": "96521724-3015-4d3a-d491-c1a2584fd3f5"
   },
   "outputs": [
    {
     "name": "stdout",
     "output_type": "stream",
     "text": [
      "Valid action for State:-  x-x-x-x-x-x-x-x-x \n",
      "\n",
      "[(0, 1), (0, 3), (0, 5), (0, 7), (0, 9), (1, 1), (1, 3), (1, 5), (1, 7), (1, 9), (2, 1), (2, 3), (2, 5), (2, 7), (2, 9), (3, 1), (3, 3), (3, 5), (3, 7), (3, 9), (4, 1), (4, 3), (4, 5), (4, 7), (4, 9), (5, 1), (5, 3), (5, 5), (5, 7), (5, 9), (6, 1), (6, 3), (6, 5), (6, 7), (6, 9), (7, 1), (7, 3), (7, 5), (7, 7), (7, 9), (8, 1), (8, 3), (8, 5), (8, 7), (8, 9)]\n"
     ]
    }
   ],
   "source": [
    "print(\"Valid action for State:- \",Q_state(envn.state),\"\\n\")\n",
    "print(valid_actions(envn.state))"
   ]
  },
  {
   "cell_type": "code",
   "execution_count": 6,
   "metadata": {
    "id": "WgjRurYYEHG1"
   },
   "outputs": [],
   "source": [
    "# Defining a function which will add new Q-values to the Q-dictionary. \n",
    "def add_to_dict(state):\n",
    "    state1 = Q_state(state)\n",
    "    \n",
    "    valid_act = valid_actions(state)\n",
    "    if state1 not in Q_dict.keys():\n",
    "        for action in valid_act:\n",
    "            Q_dict[state1][action]=0"
   ]
  },
  {
   "cell_type": "markdown",
   "metadata": {
    "id": "Ud1_vA88SXUQ"
   },
   "source": [
    "### Epsilon-greedy strategy Funchion"
   ]
  },
  {
   "cell_type": "code",
   "execution_count": 26,
   "metadata": {
    "id": "VYA-2-fGENoX"
   },
   "outputs": [],
   "source": [
    "# Defining epsilon-greedy policy. You can choose any function epsilon-decay strategy\n",
    "def epsilon_greedy(state, time):\n",
    "    epsilon = min_epsilon + (max_epsilon - min_epsilon) * np.exp(-decay_rate*time)\n",
    "    # Generate random float number between 0 to 1 \n",
    "    z = np.random.random()\n",
    "    if z > epsilon:\n",
    "        # ===> Pick the action having maximum reward\n",
    "        act_state = Q_state(state)\n",
    "        action = max(Q_dict[act_state],key=Q_dict[act_state].get)\n",
    "    else:\n",
    "        # ===> random action generation\n",
    "        action = random.sample(valid_actions(state),1)[0]\n",
    "    return action\n"
   ]
  },
  {
   "cell_type": "markdown",
   "metadata": {
    "id": "kOQlnqwySdQW"
   },
   "source": [
    "### For Tracking the state-action pairs for checking the Convergence "
   ]
  },
  {
   "cell_type": "code",
   "execution_count": 53,
   "metadata": {
    "id": "T84bwPHnEPo-"
   },
   "outputs": [],
   "source": [
    "# Initialise Q_dictionary as 'Q_dict' and States_tracked as 'States_track' (for convergence)\n",
    "Q_dict = collections.defaultdict(dict)\n",
    "States_track =collections.defaultdict(dict)"
   ]
  },
  {
   "cell_type": "code",
   "execution_count": 54,
   "metadata": {
    "id": "7CyRsSWJERYK"
   },
   "outputs": [],
   "source": [
    "# Initialise states to be tracked\n",
    "def initialise_tracking_states():\n",
    "    Sample_Qvalues = [('x-3-x-x-x-6-x-x-x',(0,1)),\n",
    "                       ('x-1-x-x-x-x-8-x-x',(2,9)),\n",
    "                       ('x-x-x-x-6-x-x-x-5',(2,7)),\n",
    "                       ('x-x-x-x-9-x-6-x-x',(1,7)),\n",
    "                       ('x-5-x-2-x-x-4-7-x',(0,9)),\n",
    "                       ('9-x-5-x-x-x-8-x-4',(1,3)),\n",
    "                       ('2-7-x-x-6-x-x-3-x',(8,5)),\n",
    "                       ('9-x-x-x-x-2-x-x-x',(2,5)),\n",
    "                       ('x-x-7-x-x-x-x-x-2',(1,5)),\n",
    "                       ('5-x-x-x-x-6-x-x-x',(4,9)),\n",
    "                       ('4-x-x-6-x-x-3-1-x',(8,5)),\n",
    "                       ('5-x-8-x-x-6-3-x-x',(3,1)),\n",
    "                       ('x-6-5-x-2-x-x-3-x',(0,7)),\n",
    "                       ('7-x-5-x-2-x-x-x-6',(1,3))]    #selecting some 4 Q-values\n",
    "    for q_values in Sample_Qvalues:\n",
    "        state = q_values[0]\n",
    "        action = q_values[1]\n",
    "        States_track[state][action] = []\n",
    "\n",
    "initialise_tracking_states()"
   ]
  },
  {
   "cell_type": "code",
   "execution_count": 55,
   "metadata": {
    "colab": {
     "base_uri": "https://localhost:8080/"
    },
    "id": "bf8sNU-aETJ5",
    "outputId": "8d67bc5e-8565-4ad3-b510-8baa5efccde8"
   },
   "outputs": [
    {
     "name": "stdout",
     "output_type": "stream",
     "text": [
      "State_track default state:- \n",
      "\n"
     ]
    },
    {
     "data": {
      "text/plain": [
       "defaultdict(dict,\n",
       "            {'2-7-x-x-6-x-x-3-x': {(8, 5): []},\n",
       "             '4-x-x-6-x-x-3-1-x': {(8, 5): []},\n",
       "             '5-x-8-x-x-6-3-x-x': {(3, 1): []},\n",
       "             '5-x-x-x-x-6-x-x-x': {(4, 9): []},\n",
       "             '7-x-5-x-2-x-x-x-6': {(1, 3): []},\n",
       "             '9-x-5-x-x-x-8-x-4': {(1, 3): []},\n",
       "             '9-x-x-x-x-2-x-x-x': {(2, 5): []},\n",
       "             'x-1-x-x-x-x-8-x-x': {(2, 9): []},\n",
       "             'x-3-x-x-x-6-x-x-x': {(0, 1): []},\n",
       "             'x-5-x-2-x-x-4-7-x': {(0, 9): []},\n",
       "             'x-6-5-x-2-x-x-3-x': {(0, 7): []},\n",
       "             'x-x-7-x-x-x-x-x-2': {(1, 5): []},\n",
       "             'x-x-x-x-6-x-x-x-5': {(2, 7): []},\n",
       "             'x-x-x-x-9-x-6-x-x': {(1, 7): []}})"
      ]
     },
     "execution_count": 55,
     "metadata": {
      "tags": []
     },
     "output_type": "execute_result"
    }
   ],
   "source": [
    "print(\"State_track default state:- \\n\")\n",
    "States_track"
   ]
  },
  {
   "cell_type": "code",
   "execution_count": 56,
   "metadata": {
    "id": "qxUwyJNDEVJt"
   },
   "outputs": [],
   "source": [
    "#Defining a function to save the Q-dictionary as a pickle file\n",
    "\n",
    "def save_obj(obj, name ):\n",
    "    with open(name + '.pkl', 'wb') as f:\n",
    "        pickle.dump(obj, f, pickle.HIGHEST_PROTOCOL)"
   ]
  },
  {
   "cell_type": "code",
   "execution_count": 57,
   "metadata": {
    "id": "n1t0ATDoEXRm"
   },
   "outputs": [],
   "source": [
    "def save_tracking_states():\n",
    "    for state in States_track.keys():\n",
    "        for action in States_track[state].keys():\n",
    "            if state in Q_dict and action in Q_dict[state]:\n",
    "                States_track[state][action].append(Q_dict[state][action])"
   ]
  },
  {
   "cell_type": "markdown",
   "metadata": {
    "id": "n1hy656DSt6v"
   },
   "source": [
    "### Model Hyperparameters"
   ]
  },
  {
   "cell_type": "code",
   "execution_count": 58,
   "metadata": {
    "id": "0cNKgNSgEYoG"
   },
   "outputs": [],
   "source": [
    "#Defining parameters for the training\n",
    "\n",
    "EPISODES = 500000\n",
    "\n",
    "LR = 0.01                   # learning rate\n",
    "GAMMA = 0.9                # discount factor\n",
    "\n",
    "max_epsilon = 1.0\n",
    "min_epsilon = 0.001\n",
    "decay_rate = 0.000004       # epsilon decay rate\n",
    "threshold = 2000            # no of episodes after which states_tracked wwill be saved\n",
    "\n",
    "chkpt_print = int(EPISODES/10) # Print log while training"
   ]
  },
  {
   "cell_type": "code",
   "execution_count": 59,
   "metadata": {
    "colab": {
     "base_uri": "https://localhost:8080/",
     "height": 281
    },
    "id": "o-5KEbmmEb_F",
    "outputId": "6e1d3b1c-7c80-4b3c-f1e8-b7bd1c324bc6"
   },
   "outputs": [
    {
     "data": {
      "image/png": "[encoded data removed]",
      "text/plain": [
       "<Figure size 432x288 with 1 Axes>"
      ]
     },
     "metadata": {
      "needs_background": "light",
      "tags": []
     },
     "output_type": "display_data"
    }
   ],
   "source": [
    "episd = np.arange(0,EPISODES)\n",
    "epsilon = []\n",
    "for i in range(0,EPISODES):\n",
    "    epsilon.append(min_epsilon + (max_epsilon - min_epsilon) * np.exp(-decay_rate*i))\n",
    "\n",
    "plt.plot(episd, epsilon)\n",
    "plt.title(\"Epsilon - decay graph\")\n",
    "plt.show()"
   ]
  },
  {
   "cell_type": "markdown",
   "metadata": {
    "id": "lOTLtTJ0S05l"
   },
   "source": [
    "### Q-update loop"
   ]
  },
  {
   "cell_type": "code",
   "execution_count": 61,
   "metadata": {
    "colab": {
     "base_uri": "https://localhost:8080/"
    },
    "id": "dBABt-fNEd6A",
    "outputId": "7bf7570a-34c5-429c-fe10-a4b39caef18b"
   },
   "outputs": [
    {
     "name": "stdout",
     "output_type": "stream",
     "text": [
      "After 50000 Episodes:- Agent Won: 0.333%, Environment Won: 0.408%, Tie: 0.259%, Time: 82s\n",
      "After 100000 Episodes:- Agent Won: 0.361%, Environment Won: 0.388%, Tie: 0.251%, Time: 78s\n",
      "After 150000 Episodes:- Agent Won: 0.395%, Environment Won: 0.365%, Tie: 0.239%, Time: 70s\n",
      "After 200000 Episodes:- Agent Won: 0.431%, Environment Won: 0.342%, Tie: 0.227%, Time: 66s\n",
      "After 250000 Episodes:- Agent Won: 0.470%, Environment Won: 0.318%, Tie: 0.212%, Time: 62s\n",
      "After 300000 Episodes:- Agent Won: 0.506%, Environment Won: 0.295%, Tie: 0.199%, Time: 59s\n",
      "After 350000 Episodes:- Agent Won: 0.539%, Environment Won: 0.275%, Tie: 0.186%, Time: 59s\n",
      "After 400000 Episodes:- Agent Won: 0.570%, Environment Won: 0.257%, Tie: 0.173%, Time: 54s\n",
      "After 450000 Episodes:- Agent Won: 0.599%, Environment Won: 0.240%, Tie: 0.162%, Time: 53s\n",
      "After 500000 Episodes:- Agent Won: 0.624%, Environment Won: 0.224%, Tie: 0.152%, Time: 51s\n",
      "Total time:-  639.3307197093964\n"
     ]
    }
   ],
   "source": [
    "start_time = time.time()\n",
    "episode_time= time.time()\n",
    "agent_won = 0\n",
    "envn_won = 0\n",
    "tie_cnt = 0\n",
    "\n",
    "for episode in range(EPISODES):\n",
    "    # initializing the object for new episode\n",
    "    \n",
    "    env = TicTacToe()\n",
    "    curr_state = env.state\n",
    "    isTerminated = False\n",
    "    add_to_dict(curr_state)\n",
    "    total_reward = 0\n",
    "\n",
    "    while not isTerminated:\n",
    "        current_lookup = Q_state(curr_state)\n",
    "        curr_action = epsilon_greedy(curr_state, episode)\n",
    "        next_state, reward, isTerminated,result = env.step(curr_state, curr_action)\n",
    "\n",
    "        if isTerminated:\n",
    "          # Game terminated\n",
    "            if result == \"Agent_won\":\n",
    "                agent_won += 1\n",
    "            elif result == \"Envn_won\":\n",
    "                envn_won += 1\n",
    "            else :\n",
    "                tie_cnt += 1\n",
    "            # update Q table with new reward\n",
    "            Q_dict[current_lookup][curr_action] += LR*((reward - Q_dict[current_lookup][curr_action]))\n",
    "        else:\n",
    "          # Game need to be resumed\n",
    "            next_lookup = Q_state(next_state)\n",
    "            add_to_dict(next_state)\n",
    "            max_next = max(Q_dict[next_lookup],key=Q_dict[next_lookup].get)\n",
    "            # update Q table \n",
    "            Q_dict[current_lookup][curr_action] += \\\n",
    "                LR *((reward + (GAMMA * (Q_dict[next_lookup][max_next]))) -\\\n",
    "                Q_dict[current_lookup][curr_action])\n",
    "        \n",
    "        curr_state = next_state\n",
    "        total_reward += reward\n",
    "    \n",
    "    # for debug logs\n",
    "    if (episode + 1) % chkpt_print == 0:\n",
    "        print(\"After %d Episodes:- Agent Won: %.3f%%, Environment Won: %.3f%%, Tie: %.3f%%, Time: %ds\"% \\\n",
    "          (episode + 1, agent_won / (episode + 1), envn_won /(episode + 1), tie_cnt / (episode + 1),\\\n",
    "           time.time()-episode_time))\n",
    "        episode_time = time.time() \n",
    "    \n",
    "    # Save state-action pairs\n",
    "    if ((episode+1) % threshold) == 0:   #every 2000th episode\n",
    "        save_tracking_states()\n",
    "\n",
    "\n",
    "elapsed_time = time.time() - start_time\n",
    "save_obj(States_track, 'States_tracked')\n",
    "save_obj(Q_dict, 'Policy')\n",
    "print(\"Total time:- \",elapsed_time)\n"
   ]
  },
  {
   "cell_type": "markdown",
   "metadata": {
    "id": "1FCV1GosTlhm"
   },
   "source": [
    "### Q-dictionary"
   ]
  },
  {
   "cell_type": "code",
   "execution_count": 3,
   "metadata": {},
   "outputs": [],
   "source": [
    "# to load pickle files\n",
    "with open('States_tracked.pkl', 'rb') as f:\n",
    "    States_track = pickle.load(f)\n",
    "\n",
    "with open('Policy.pkl', 'rb') as f:\n",
    "    Q_dict = pickle.load(f)"
   ]
  },
  {
   "cell_type": "code",
   "execution_count": 4,
   "metadata": {
    "colab": {
     "base_uri": "https://localhost:8080/"
    },
    "id": "0yqjkEMJTnzG",
    "outputId": "1251a335-d141-40a0-df17-7aac956e9dc7"
   },
   "outputs": [
    {
     "name": "stdout",
     "output_type": "stream",
     "text": [
      "Number of enteries in Q table :- 302429\n"
     ]
    }
   ],
   "source": [
    "print(\"Number of enteries in Q table :- %d\"%len(Q_dict))"
   ]
  },
  {
   "cell_type": "code",
   "execution_count": 5,
   "metadata": {
    "colab": {
     "base_uri": "https://localhost:8080/"
    },
    "id": "MI9HzKcJTprz",
    "outputId": "3aecdbdd-8e55-4490-88bc-bc84911bcbce"
   },
   "outputs": [
    {
     "name": "stdout",
     "output_type": "stream",
     "text": [
      "Checking Entries for x-3-x-x-x-6-x-x-x state\n",
      "\n"
     ]
    },
    {
     "data": {
      "text/plain": [
       "{(0, 1): -0.019000000000000003,\n",
       " (0, 5): -0.0490099501,\n",
       " (0, 7): -0.029701,\n",
       " (0, 9): -0.029701,\n",
       " (2, 1): -0.03940399,\n",
       " (2, 5): -0.029701,\n",
       " (2, 7): -0.12583090000000002,\n",
       " (2, 9): 0,\n",
       " (3, 1): -0.0199,\n",
       " (3, 5): -0.199,\n",
       " (3, 7): -0.21761299,\n",
       " (3, 9): 4.637317747928147,\n",
       " (4, 1): -0.029701,\n",
       " (4, 5): -0.12940399,\n",
       " (4, 7): -0.32228249149900007,\n",
       " (4, 9): 0.1,\n",
       " (6, 1): -0.029701,\n",
       " (6, 5): -0.0199,\n",
       " (6, 7): -0.01,\n",
       " (6, 9): -0.028801,\n",
       " (7, 1): -0.0490099501,\n",
       " (7, 5): -0.058519850599,\n",
       " (7, 7): -0.029701,\n",
       " (7, 9): -0.029701,\n",
       " (8, 1): -0.0490099501,\n",
       " (8, 5): -0.03940399,\n",
       " (8, 7): -0.1099,\n",
       " (8, 9): 0.1}"
      ]
     },
     "execution_count": 5,
     "metadata": {},
     "output_type": "execute_result"
    }
   ],
   "source": [
    "state = 'x-3-x-x-x-6-x-x-x' \n",
    "print(\"Checking Entries for %s state\\n\"%state)\n",
    "Q_dict[state]"
   ]
  },
  {
   "cell_type": "code",
   "execution_count": 6,
   "metadata": {
    "colab": {
     "base_uri": "https://localhost:8080/"
    },
    "id": "3vqrQtuATw8x",
    "outputId": "5eb1cf4c-c0e6-4c49-8649-93656385cc82"
   },
   "outputs": [
    {
     "name": "stdout",
     "output_type": "stream",
     "text": [
      "Best action for state x-3-x-x-x-6-x-x-x is (3, 9)\n",
      "Q(s,a) is  4.637317747928147\n"
     ]
    }
   ],
   "source": [
    "next_action = max(Q_dict[state],key=Q_dict[state].get)\n",
    "print(\"Best action for state %s is %s\" % (state,str(next_action)))\n",
    "print(\"Q(s,a) is \",Q_dict[state][next_action])"
   ]
  },
  {
   "cell_type": "markdown",
   "metadata": {
    "id": "ooNXTjHVT9xy"
   },
   "source": [
    "### States tracked for Q-values convergence"
   ]
  },
  {
   "cell_type": "code",
   "execution_count": 7,
   "metadata": {
    "colab": {
     "base_uri": "https://localhost:8080/",
     "height": 461
    },
    "id": "auk8F97sFAPX",
    "outputId": "943209c5-2f26-4f66-cbec-4f14018e8297"
   },
   "outputs": [
    {
     "data": {
      "text/plain": [
       "<function matplotlib.pyplot.show(close=None, block=None)>"
      ]
     },
     "execution_count": 7,
     "metadata": {},
     "output_type": "execute_result"
    },
    {
     "data": {
      "image/png": "[encoded data removed]",
      "text/plain": [
       "<Figure size 1152x504 with 4 Axes>"
      ]
     },
     "metadata": {
      "needs_background": "light"
     },
     "output_type": "display_data"
    }
   ],
   "source": [
    "plt.figure(0, figsize=(16,7))\n",
    "\n",
    "x_axis = np.asarray(range(0, len(States_track['x-3-x-x-x-6-x-x-x'][(0,1)])))\n",
    "plt.subplot(221)\n",
    "plt.plot(x_axis,np.asarray(States_track['x-3-x-x-x-6-x-x-x'][(0,1)]))\n",
    "plt.title(\"Q(s,a)=('x-3-x-x-x-6-x-x-x',(0,1))\")\n",
    "plt.show\n",
    "\n",
    "x_axis = np.asarray(range(0, len(States_track['x-x-x-x-6-x-x-x-5'][(2,7)])))\n",
    "plt.subplot(222)\n",
    "plt.plot(x_axis,np.asarray(States_track['x-x-x-x-6-x-x-x-5'][(2,7)]))\n",
    "plt.title(\"Q(s,a)=('x-x-x-x-6-x-x-x-5',(2,7))\")\n",
    "plt.show\n",
    "\n",
    "x_axis = np.asarray(range(0, len(States_track['5-x-x-x-x-6-x-x-x'][(4,9)])))\n",
    "plt.subplot(223)\n",
    "plt.plot(x_axis,np.asarray(States_track['5-x-x-x-x-6-x-x-x'][(4,9)]))\n",
    "plt.title(\"Q(s,a)=('5-x-x-x-x-6-x-x-x',(4,9))\")\n",
    "plt.show\n",
    "\n",
    "x_axis = np.asarray(range(0, len(States_track['x-1-x-x-x-x-8-x-x'][(2,9)])))\n",
    "plt.subplot(224)\n",
    "plt.plot(x_axis,np.asarray(States_track['x-1-x-x-x-x-8-x-x'][(2,9)]))\n",
    "plt.title(\"Q(s,a)=('x-1-x-x-x-x-8-x-x',(2,9))\")\n",
    "plt.show"
   ]
  },
  {
   "cell_type": "code",
   "execution_count": null,
   "metadata": {
    "id": "HrkJsDECVNvF"
   },
   "outputs": [],
   "source": []
  }
 ],
 "metadata": {
  "colab": {
   "collapsed_sections": [],
   "name": "TicTacToe_Agent.ipynb",
   "provenance": []
  },
  "kernelspec": {
   "display_name": "Python 3",
   "language": "python",
   "name": "python3"
  },
  "language_info": {
   "codemirror_mode": {
    "name": "ipython",
    "version": 3
   },
   "file_extension": ".py",
   "mimetype": "text/x-python",
   "name": "python",
   "nbconvert_exporter": "python",
   "pygments_lexer": "ipython3",
   "version": "3.7.9"
  }
 },
 "nbformat": 4,
 "nbformat_minor": 1
}
